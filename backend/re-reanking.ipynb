{
 "cells": [
  {
   "cell_type": "code",
   "execution_count": 1,
   "metadata": {},
   "outputs": [
    {
     "name": "stderr",
     "output_type": "stream",
     "text": [
      "c:\\Users\\naray\\OneDrive\\Documents\\Job Preparation\\react projects\\Policy_assistant\\backend\\myenv\\Lib\\site-packages\\tqdm\\auto.py:21: TqdmWarning: IProgress not found. Please update jupyter and ipywidgets. See https://ipywidgets.readthedocs.io/en/stable/user_install.html\n",
      "  from .autonotebook import tqdm as notebook_tqdm\n"
     ]
    }
   ],
   "source": [
    "import os\n",
    "from dotenv import load_dotenv\n",
    "load_dotenv()\n",
    "from langchain_google_genai import ChatGoogleGenerativeAI\n",
    "\n",
    "llm = ChatGoogleGenerativeAI(model=\"gemini-pro\",api_key=os.environ.get(\"GOOGLE_API_KEY\"))"
   ]
  },
  {
   "cell_type": "code",
   "execution_count": 2,
   "metadata": {},
   "outputs": [],
   "source": [
    "from langchain_google_genai import GoogleGenerativeAIEmbeddings\n",
    "\n",
    "embeddings = GoogleGenerativeAIEmbeddings(model=\"models/embedding-001\",google_api_key=os.environ.get(\"GOOGLE_API_KEY\"))"
   ]
  },
  {
   "cell_type": "code",
   "execution_count": 3,
   "metadata": {},
   "outputs": [],
   "source": [
    "# Helper function to format and print document content\n",
    "def pretty_print_docs(docs):\n",
    "    # Print each document in the list with a separator between them\n",
    "    print(\n",
    "        f\"\\n{'-' * 100}\\n\".join(  # Separator line for better readability\n",
    "            [f\"Document {i+1}:\\n\\n\" + d.page_content for i, d in enumerate(docs)]  # Format: Document number + content\n",
    "        )\n",
    "    )"
   ]
  },
  {
   "cell_type": "code",
   "execution_count": 4,
   "metadata": {},
   "outputs": [],
   "source": [
    "os.environ[\"KMP_DUPLICATE_LIB_OK\"] = \"TRUE\""
   ]
  },
  {
   "cell_type": "code",
   "execution_count": 5,
   "metadata": {},
   "outputs": [
    {
     "name": "stdout",
     "output_type": "stream",
     "text": [
      "Document 1:\n",
      "\n",
      "• Led a seminar for 200+ junior peers, covering this project with concepts of computer vision and object detection.\n",
      "TECHNICAL SKILLS\n",
      "----------------------------------------------------------------------------------------------------\n",
      "Document 2:\n",
      "\n",
      "• Led a seminar for 200+ junior peers, covering this project with concepts of computer vision and object detection.\n",
      "TECHNICAL SKILLS\n",
      "Software Development: Python, OOPS, Django, Flask, PostgreSQL, c++, HTML, CSS.\n",
      "Artificial Intelligence: Generative AI, Natural Language Processing, Computer Vision, Machine Learning, Deep Learning.\n",
      "Developer Tools: HuggingFace, Google Colaboratory, Visual Studio Code, Jupyter Notebook, Pycharm, Github.\n",
      "Cloud Services: Azure, AWS\n",
      "ACHIEVEMENTS\n",
      "----------------------------------------------------------------------------------------------------\n",
      "Document 3:\n",
      "\n",
      "Cloud Services: Azure, AWS\n",
      "ACHIEVEMENTS\n",
      "• Received Customer Appreciation and team awards for developing a time-series application and demonstrating leadership.\n",
      "• Cleared AWS Certified Cloud Practitioner exam with a score of 804/1000.\n",
      "• Led a team of 4 and secured first prize in the Vhackathon competition with a perfect score of 10/10.\n",
      "• Secured first place in 2 semesters and highest marks in 3 subjects of Computer Engineering and first place in SSC board exam\n",
      "----------------------------------------------------------------------------------------------------\n",
      "Document 4:\n",
      "\n",
      "Secondary School Grade: 96.40%\n",
      "PROFESSIONAL EXPERIENCE\n",
      "Tata Consultancy Services Mumbai, India\n",
      "AI ML Engineer Jul 2022 – Present\n",
      "• Developed a customer support chatbot deploying GPT models via Azure OpenAI Service for a European car insurance\n",
      "company. Built a React-based frontend with reusable components and deployed it on Azure Storage Account .\n",
      "• Implemented AI guardrails using Azure Content Safety Service to prevent harmful content and to enforce permissible\n",
      "----------------------------------------------------------------------------------------------------\n",
      "Document 5:\n",
      "\n",
      "estimation using posenet and mediapipe algorithms. Included 42 human hand keypoints, improved efficiency, proposed a\n",
      "refined weight formula, and added video compatibility in Tensorflow Pose animator.\n",
      "• Provided technical assistance to 10+ TCS accounts and research teams to build AI ML solutions for customers.\n",
      "Tata Consultancy Services Mumbai, India\n",
      "AI ML Developer Intern Jan 2022 – Apr 2022\n",
      "----------------------------------------------------------------------------------------------------\n",
      "Document 6:\n",
      "\n",
      "• Implemented AI guardrails using Azure Content Safety Service to prevent harmful content and to enforce permissible\n",
      "ranges for OpenAI parameters for user groups via Azure API Management. Designed GitLab CI/CD pipelines for guardrail\n",
      "policy updates and stored group-level policies in Azure Storage Account.\n",
      "• Developed an incident forecasting system analyzing 3 years of historical incidents data. Employed efficient outlier removal\n",
      "----------------------------------------------------------------------------------------------------\n",
      "Document 7:\n",
      "\n",
      "Tata Consultancy Services Mumbai, India\n",
      "AI ML Developer Intern Jan 2022 – Apr 2022\n",
      "• Created an application capable of generating 3D human models with intricate details from 2D input videos.\n",
      "• Conducted advanced image preprocessing and employed four 3D human digitization algorithms, out of which PIFuHD\n",
      "performed the best. Enhanced human color rendering and developed a position discrimination classification model.\n",
      "Vidyalankar Institute of Technology Mumbai, India\n",
      "NLP Intern May 2020 – Jul 2020\n",
      "----------------------------------------------------------------------------------------------------\n",
      "Document 8:\n",
      "\n",
      "• Added features: real-time tweet analysis, multilingual input, and website translation.\n",
      "• Researched Marathi POS tagging, Bi-LSTM outperformed 4 other methods among 13 taggers. IEEE, ICIRCA\n",
      "Gesture-Controlled Gaming using OpenCV-Python | Github | Python, Computer Vision, PyAutoGUI, Git 2021\n",
      "• Developed a face and hand detection using Haarcascade files and controlled a car race game using PyAutoGUI.\n",
      "----------------------------------------------------------------------------------------------------\n",
      "Document 9:\n",
      "\n",
      "techniques and tested 6 time-series models for a 5-year forecast, with Neural Prophet giving the least mean square error.\n",
      "• Automated provident fund document submission for TCS employees by extracting data from scanned images to Excel.\n",
      "Implemented table structure recognizer using detection transformers and OCR.\n",
      "• Pioneered the development of a unique NLP parser for text-to-Indian Sign Language conversion. Conducted human pose\n",
      "----------------------------------------------------------------------------------------------------\n",
      "Document 10:\n",
      "\n",
      "• Secured first place in 2 semesters and highest marks in 3 subjects of Computer Engineering and first place in SSC board exam\n",
      "• Alumni Guest Lecture : Delivered a guest lecture at VIT on the Industry Applications of Generative AI.\n"
     ]
    }
   ],
   "source": [
    "from langchain_community.document_loaders import TextLoader\n",
    "from langchain_community.vectorstores import FAISS\n",
    "from langchain_community.document_loaders import PyPDFLoader\n",
    "from langchain_text_splitters import RecursiveCharacterTextSplitter\n",
    "def load_pdf(file_path):\n",
    "    loader = PyPDFLoader(file_path)\n",
    "    docs = loader.load()\n",
    "    text_splitter = RecursiveCharacterTextSplitter(chunk_size=1000, chunk_overlap=200)\n",
    "    all_splits = text_splitter.split_documents(docs)\n",
    "    return all_splits\n",
    "\n",
    "documents=load_pdf(\"Minakshee_Narayankar_Resume.pdf\")\n",
    "\n",
    "# Configure text splitter\n",
    "text_splitter = RecursiveCharacterTextSplitter(chunk_size=500, chunk_overlap=100)\n",
    "\n",
    "# Split documents into chunks\n",
    "texts = text_splitter.split_documents(documents)\n",
    "\n",
    "\n",
    "\n",
    "# Create FAISS index from documents and set up retriever\n",
    "retriever = FAISS.from_documents(texts, embeddings).as_retriever(\n",
    "    search_kwargs={\"k\": 10}\n",
    ")\n",
    "\n",
    "# Define the query\n",
    "query = \"what are the skills present in the resume ?\"\n",
    "\n",
    "# Execute the query and retrieve results\n",
    "docs = retriever.invoke(query)\n",
    "\n",
    "# Display the retrieved documents\n",
    "pretty_print_docs(docs)"
   ]
  },
  {
   "cell_type": "code",
   "execution_count": 6,
   "metadata": {},
   "outputs": [
    {
     "name": "stderr",
     "output_type": "stream",
     "text": [
      "c:\\Users\\naray\\OneDrive\\Documents\\Job Preparation\\react projects\\Policy_assistant\\backend\\myenv\\Lib\\site-packages\\huggingface_hub\\file_download.py:140: UserWarning: `huggingface_hub` cache-system uses symlinks by default to efficiently store duplicated files but your machine does not support them in C:\\Users\\naray\\.cache\\huggingface\\hub\\models--cross-encoder--ms-marco-MiniLM-L-6-v2. Caching files will still work but in a degraded version that might require more space on your disk. This warning can be disabled by setting the `HF_HUB_DISABLE_SYMLINKS_WARNING` environment variable. For more details, see https://huggingface.co/docs/huggingface_hub/how-to-cache#limitations.\n",
      "To support symlinks on Windows, you either need to activate Developer Mode or to run Python as an administrator. In order to activate developer mode, see this article: https://docs.microsoft.com/en-us/windows/apps/get-started/enable-your-device-for-development\n",
      "  warnings.warn(message)\n"
     ]
    }
   ],
   "source": [
    "from langchain.retrievers import ContextualCompressionRetriever\n",
    "from langchain.retrievers.document_compressors import CrossEncoderReranker\n",
    "from langchain_community.cross_encoders import HuggingFaceCrossEncoder\n",
    "\n",
    "# Initialize the model\n",
    "model = HuggingFaceCrossEncoder(model_name=\"cross-encoder/ms-marco-MiniLM-L-6-v2\")\n",
    "\n",
    "# Select the top 3 documents\n",
    "compressor = CrossEncoderReranker(model=model, top_n=3)\n",
    "\n",
    "# Initialize the contextual compression retriever\n",
    "compression_retriever = ContextualCompressionRetriever(\n",
    "    base_compressor=compressor, base_retriever=retriever\n",
    ")\n",
    "\n"
   ]
  },
  {
   "cell_type": "code",
   "execution_count": 7,
   "metadata": {},
   "outputs": [
    {
     "name": "stdout",
     "output_type": "stream",
     "text": [
      "Document 1:\n",
      "\n",
      "• Led a seminar for 200+ junior peers, covering this project with concepts of computer vision and object detection.\n",
      "TECHNICAL SKILLS\n",
      "----------------------------------------------------------------------------------------------------\n",
      "Document 2:\n",
      "\n",
      "• Led a seminar for 200+ junior peers, covering this project with concepts of computer vision and object detection.\n",
      "TECHNICAL SKILLS\n",
      "Software Development: Python, OOPS, Django, Flask, PostgreSQL, c++, HTML, CSS.\n",
      "Artificial Intelligence: Generative AI, Natural Language Processing, Computer Vision, Machine Learning, Deep Learning.\n",
      "Developer Tools: HuggingFace, Google Colaboratory, Visual Studio Code, Jupyter Notebook, Pycharm, Github.\n",
      "Cloud Services: Azure, AWS\n",
      "ACHIEVEMENTS\n",
      "----------------------------------------------------------------------------------------------------\n",
      "Document 3:\n",
      "\n",
      "Cloud Services: Azure, AWS\n",
      "ACHIEVEMENTS\n",
      "• Received Customer Appreciation and team awards for developing a time-series application and demonstrating leadership.\n",
      "• Cleared AWS Certified Cloud Practitioner exam with a score of 804/1000.\n",
      "• Led a team of 4 and secured first prize in the Vhackathon competition with a perfect score of 10/10.\n",
      "• Secured first place in 2 semesters and highest marks in 3 subjects of Computer Engineering and first place in SSC board exam\n"
     ]
    }
   ],
   "source": [
    "# Retrieve compressed documents\n",
    "compressed_docs = compression_retriever.invoke(\"what are the skills present in the resume?\")\n",
    "\n",
    "# Display the documents\n",
    "pretty_print_docs(compressed_docs)"
   ]
  }
 ],
 "metadata": {
  "kernelspec": {
   "display_name": "myenv",
   "language": "python",
   "name": "python3"
  },
  "language_info": {
   "codemirror_mode": {
    "name": "ipython",
    "version": 3
   },
   "file_extension": ".py",
   "mimetype": "text/x-python",
   "name": "python",
   "nbconvert_exporter": "python",
   "pygments_lexer": "ipython3",
   "version": "3.12.6"
  }
 },
 "nbformat": 4,
 "nbformat_minor": 2
}
